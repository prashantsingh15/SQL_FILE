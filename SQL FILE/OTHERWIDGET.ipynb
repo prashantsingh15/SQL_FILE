{
 "cells": [
  {
   "cell_type": "code",
   "execution_count": 17,
   "metadata": {},
   "outputs": [],
   "source": [
    "from tkinter import*\n",
    "window=Tk()\n",
    "window.title(\"welcome to my App\")\n",
    "window.minsize(width=200,height=400)\n",
    "window.maxsize(width=400,height=800)\n"
   ]
  },
  {
   "cell_type": "code",
   "execution_count": 18,
   "metadata": {},
   "outputs": [
    {
     "name": "stdout",
     "output_type": "stream",
     "text": [
      "0\n",
      "1\n"
     ]
    }
   ],
   "source": [
    "v=IntVar()\n",
    "def edtech():\n",
    "    print(v.get())\n",
    "\n",
    "rb1=Radiobutton(window,text=\"yes\",value=1,variable=v)\n",
    "rb1.pack()\n",
    "\n",
    "rb2=Radiobutton(window,text=\"no\",value=0,variable=v)\n",
    "rb2.pack()\n",
    "\n",
    "b1=Button(window,text=\"Enter\",command=edtech)\n",
    "b1.pack()\n",
    "\n",
    "window.mainloop()"
   ]
  }
 ],
 "metadata": {
  "kernelspec": {
   "display_name": "Python 3.9.13 ('base')",
   "language": "python",
   "name": "python3"
  },
  "language_info": {
   "codemirror_mode": {
    "name": "ipython",
    "version": 3
   },
   "file_extension": ".py",
   "mimetype": "text/x-python",
   "name": "python",
   "nbconvert_exporter": "python",
   "pygments_lexer": "ipython3",
   "version": "3.9.13"
  },
  "orig_nbformat": 4,
  "vscode": {
   "interpreter": {
    "hash": "19e3ed3879c13a0a3709fc77aecbc5c79d8539dfda6d4462a1c416bc4ea67350"
   }
  }
 },
 "nbformat": 4,
 "nbformat_minor": 2
}
