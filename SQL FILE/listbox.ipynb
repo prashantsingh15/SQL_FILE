{
 "cells": [
  {
   "cell_type": "code",
   "execution_count": 7,
   "metadata": {},
   "outputs": [],
   "source": [
    "from tkinter import*\n",
    "window=Tk()\n",
    "window.title(\"Welcome to Raj Gaand\")\n",
    "window.minsize(width=200,height=400)\n",
    "window.maxsize(width=400,height=800)\n"
   ]
  },
  {
   "cell_type": "code",
   "execution_count": 8,
   "metadata": {},
   "outputs": [],
   "source": [
    "lb=Listbox(window,width=20)\n",
    "\n",
    "lb.pack()\n",
    "\n",
    "l1=[\"Tony\",\"Raj\",\"Prashant\",\"Abhinav\"]\n",
    "\n",
    "for i in l1:\n",
    "    \n",
    "    lb.insert(END,i)\n",
    "    \n",
    "def edtech():\n",
    "    lb.delete(ANCHOR)\n",
    "\n",
    "b1=Button(window,text=\"remove\",bg=\"red\",command=edtech)\n",
    "\n",
    "b1.pack()\n",
    "\n",
    "window.mainloop()"
   ]
  }
 ],
 "metadata": {
  "kernelspec": {
   "display_name": "Python 3.9.13 ('base')",
   "language": "python",
   "name": "python3"
  },
  "language_info": {
   "codemirror_mode": {
    "name": "ipython",
    "version": 3
   },
   "file_extension": ".py",
   "mimetype": "text/x-python",
   "name": "python",
   "nbconvert_exporter": "python",
   "pygments_lexer": "ipython3",
   "version": "3.9.13"
  },
  "orig_nbformat": 4,
  "vscode": {
   "interpreter": {
    "hash": "19e3ed3879c13a0a3709fc77aecbc5c79d8539dfda6d4462a1c416bc4ea67350"
   }
  }
 },
 "nbformat": 4,
 "nbformat_minor": 2
}
