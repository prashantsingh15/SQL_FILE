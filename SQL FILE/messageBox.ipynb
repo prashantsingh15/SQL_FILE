{
 "cells": [
  {
   "cell_type": "code",
   "execution_count": 11,
   "metadata": {},
   "outputs": [],
   "source": [
    "from tkinter import*\n",
    "from tkinter import messagebox\n",
    "window=Tk()\n",
    "window.title(\"Welcome To VIll Teaunga\")\n",
    "window.minsize(width=200,height=400)\n",
    "window.maxsize(width=400,height=800)\n"
   ]
  },
  {
   "cell_type": "code",
   "execution_count": 12,
   "metadata": {},
   "outputs": [],
   "source": [
    "v=StringVar()\n",
    "def edtech():\n",
    "    if v.get()==\"\":\n",
    "        messagebox.showwarning(\"Caution\",\"Its Empty\")\n",
    "        \n",
    "    else:\n",
    "        messagebox.showinfo(\"Successful\",v.get())\n",
    "\n",
    "e1=Entry(window,font=(\"Calibri\",10),width=20,textvariable=v)\n",
    "e1.pack()\n",
    "\n",
    "b1=Button(window,text=\"Enter\",command=edtech)\n",
    "b1.pack()\n",
    "window.mainloop()\n",
    "    "
   ]
  }
 ],
 "metadata": {
  "kernelspec": {
   "display_name": "Python 3.9.13 ('base')",
   "language": "python",
   "name": "python3"
  },
  "language_info": {
   "codemirror_mode": {
    "name": "ipython",
    "version": 3
   },
   "file_extension": ".py",
   "mimetype": "text/x-python",
   "name": "python",
   "nbconvert_exporter": "python",
   "pygments_lexer": "ipython3",
   "version": "3.9.13"
  },
  "orig_nbformat": 4,
  "vscode": {
   "interpreter": {
    "hash": "19e3ed3879c13a0a3709fc77aecbc5c79d8539dfda6d4462a1c416bc4ea67350"
   }
  }
 },
 "nbformat": 4,
 "nbformat_minor": 2
}
